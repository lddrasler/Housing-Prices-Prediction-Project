{
 "cells": [
  {
   "cell_type": "markdown",
   "id": "42cd893d",
   "metadata": {},
   "source": [
    "# 1\tStartup competitive to Zillow\n",
    "\n",
    "\n",
    "\n"
   ]
  },
  {
   "attachments": {},
   "cell_type": "markdown",
   "id": "82a6466b",
   "metadata": {},
   "source": [
    "### In this repository I will present analysis to create an algorithm for a startup competitor to Zillow, I will use the follow source:\n",
    "\n",
    "   * King County Open Data Source"
   ]
  },
  {
   "cell_type": "markdown",
   "id": "d98c2c8c",
   "metadata": {},
   "source": [
    "\n",
    "# 2\tBusiness Problem\n"
   ]
  },
  {
   "cell_type": "markdown",
   "id": "029721ec",
   "metadata": {},
   "source": [
    "#### To assist a company to enter the online Real Estate business we will analyze the available data and construct a multiple regression-based algorism to better predict  unknown house prices."
   ]
  },
  {
   "cell_type": "markdown",
   "id": "bfc4bb04",
   "metadata": {},
   "source": [
    "# 3 Data"
   ]
  },
  {
   "cell_type": "markdown",
   "id": "29e5a8ec",
   "metadata": {},
   "source": [
    "#### The data present in this project was provided by Flatiron School. These data were analyzed based on parameters  including: sqft, number of bedrooms, number of bathrooms, etc.  \n",
    "   Data provide by Flatiron School corresponding zip codes taken from King County Open Data Source\n",
    "   \n",
    "    * Our variables include:\n",
    "    * View;  \n",
    "    * Waterfront;\n",
    "    * Number of Bedrooms;\n",
    "    * Number of Bathrooms,\n",
    "    * SQFT living;\n",
    "    * Grade (condition);\n",
    "    * Year Built;\n",
    "    * Renovated,  etc.\n",
    "    "
   ]
  },
  {
   "cell_type": "markdown",
   "id": "dbcbf1c0",
   "metadata": {},
   "source": [
    "\n",
    "# 4 Technical Results "
   ]
  },
  {
   "cell_type": "markdown",
   "id": "45442d8a",
   "metadata": {},
   "source": [
    "With technical results we can see that the Model fuctions well. It give us a prediction of 77% of changes in the house prices based on the houses characteristcs and an Error of $........"
   ]
  },
  {
   "cell_type": "markdown",
   "id": "31b76a89",
   "metadata": {},
   "source": [
    "#### R^2 final model \n",
    " \t0.77\n",
    "\n",
    "#### Train RMSE\n",
    "\n",
    "\n",
    "#### Test RMSE\n"
   ]
  },
  {
   "cell_type": "code",
   "execution_count": 13,
   "id": "e2c4632e",
   "metadata": {},
   "outputs": [
    {
     "ename": "SyntaxError",
     "evalue": "invalid syntax (<ipython-input-13-72c391591ed1>, line 1)",
     "output_type": "error",
     "traceback": [
      "\u001b[1;36m  File \u001b[1;32m\"<ipython-input-13-72c391591ed1>\"\u001b[1;36m, line \u001b[1;32m1\u001b[0m\n\u001b[1;33m    $ jupyter nbconvert --to html README.md\u001b[0m\n\u001b[1;37m    ^\u001b[0m\n\u001b[1;31mSyntaxError\u001b[0m\u001b[1;31m:\u001b[0m invalid syntax\n"
     ]
    }
   ],
   "source": [
    "$ jupyter nbconvert --to html README.md"
   ]
  },
  {
   "cell_type": "code",
   "execution_count": null,
   "id": "e625d446",
   "metadata": {},
   "outputs": [],
   "source": []
  }
 ],
 "metadata": {
  "kernelspec": {
   "display_name": "learn_env",
   "language": "python",
   "name": "learn_env"
  },
  "language_info": {
   "codemirror_mode": {
    "name": "ipython",
    "version": 3
   },
   "file_extension": ".py",
   "mimetype": "text/x-python",
   "name": "python",
   "nbconvert_exporter": "python",
   "pygments_lexer": "ipython3",
   "version": "3.8.8"
  }
 },
 "nbformat": 4,
 "nbformat_minor": 5
}
