{
 "cells": [
  {
   "cell_type": "code",
   "execution_count": 592,
   "id": "9fd8a465",
   "metadata": {},
   "outputs": [],
   "source": [
    "X=preprocessed_train.drop(['price','log_price'],axis=1)\n",
    "y=preprocessed_train['price']\n",
    "y_=preprocessed_train['log_price']"
   ]
  },
  {
   "cell_type": "code",
   "execution_count": 593,
   "id": "36c2a259",
   "metadata": {},
   "outputs": [],
   "source": [
    "from sklearn.model_selection import train_test_split\n",
    "\n",
    "X_train, X_test, y_train, y_test = train_test_split(preprocessed.drop(['price','log_price'],axis=1), preprocessed.log_price, test_size=0.3, random_state=42)"
   ]
  },
  {
   "cell_type": "code",
   "execution_count": 594,
   "id": "c79890d0",
   "metadata": {},
   "outputs": [],
   "source": [
    "from sklearn.linear_model import LinearRegression\n",
    "linreg = LinearRegression()\n",
    "linreg.fit(X_train, y_train)\n",
    "\n",
    "y_hat_train = linreg.predict(X_train)\n",
    "y_hat_test = linreg.predict(X_test)"
   ]
  },
  {
   "cell_type": "code",
   "execution_count": 595,
   "id": "4ba3189f",
   "metadata": {},
   "outputs": [
    {
     "data": {
      "text/plain": [
       "0.830829478125852"
      ]
     },
     "execution_count": 595,
     "metadata": {},
     "output_type": "execute_result"
    }
   ],
   "source": [
    "linreg.score(X_train, y_train)"
   ]
  },
  {
   "cell_type": "code",
   "execution_count": 596,
   "id": "58de0863",
   "metadata": {},
   "outputs": [
    {
     "data": {
      "text/plain": [
       "Index(['bathrooms', 'sqft_living', 'sqft_lot', 'floors', 'waterfront', 'view',\n",
       "       'condition', 'is_renovated', 'lat', 'inner_age', 'beds_2', 'beds_3',\n",
       "       'beds_4', 'beds_5', 'beds_6', 'grade_fair', 'grade_good',\n",
       "       'grade_excellent', 'age_new', 'zip_bin10', 'zip_bin11', 'zip_bin14',\n",
       "       'zip_bin2', 'zip_bin3', 'zip_bin4', 'zip_bin5', 'zip_bin6', 'zip_bin7',\n",
       "       'zip_bin8', 'zip_bin9'],\n",
       "      dtype='object')"
      ]
     },
     "execution_count": 596,
     "metadata": {},
     "output_type": "execute_result"
    }
   ],
   "source": [
    "X_train.columns"
   ]
  },
  {
   "cell_type": "code",
   "execution_count": 597,
   "id": "a0c658e5",
   "metadata": {},
   "outputs": [
    {
     "data": {
      "text/plain": [
       "(114486.32450557903, 116097.63913809048)"
      ]
     },
     "execution_count": 597,
     "metadata": {},
     "output_type": "execute_result"
    }
   ],
   "source": [
    "from sklearn.metrics import mean_squared_error\n",
    "train_mse = mean_squared_error(np.exp(y_train), np.exp(y_hat_train),squared=False)\n",
    "test_mse = mean_squared_error(np.exp(y_test), np.exp(y_hat_test),squared=False)\n",
    "train_mse,test_mse"
   ]
  },
  {
   "cell_type": "code",
   "execution_count": null,
   "id": "ff43bcf5",
   "metadata": {},
   "outputs": [],
   "source": []
  }
 ],
 "metadata": {
  "kernelspec": {
   "display_name": "Python 3",
   "language": "python",
   "name": "python3"
  },
  "language_info": {
   "codemirror_mode": {
    "name": "ipython",
    "version": 3
   },
   "file_extension": ".py",
   "mimetype": "text/x-python",
   "name": "python",
   "nbconvert_exporter": "python",
   "pygments_lexer": "ipython3",
   "version": "3.8.8"
  }
 },
 "nbformat": 4,
 "nbformat_minor": 5
}
