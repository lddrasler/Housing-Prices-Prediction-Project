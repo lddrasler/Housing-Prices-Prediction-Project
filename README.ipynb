{
 "cells": [
  {
   "cell_type": "markdown",
   "id": "476f1f7b",
   "metadata": {},
   "source": [
    "# 1\tStartup competitive to Zillow\n",
    "\n",
    "\n",
    "\n"
   ]
  },
  {
   "cell_type": "markdown",
   "id": "f7687079",
   "metadata": {},
   "source": [
    "### In this repository I will present analysis to create an algorithm for a startup competitor to Zillow, I will use the follow source:\n",
    "\n",
    "   * King County Open Data Source"
   ]
  },
  {
   "cell_type": "markdown",
   "id": "a21897fc",
   "metadata": {},
   "source": [
    "\n",
    "# 2\tBusiness Problem\n"
   ]
  },
  {
   "cell_type": "markdown",
   "id": "45372fe8",
   "metadata": {},
   "source": [
    "#### To assist a company to enter the online Real Estate business we will analyze the available data and construct a multiple regression-based algorism to better predict  unknown house prices."
   ]
  },
  {
   "cell_type": "markdown",
   "id": "8b88c07d",
   "metadata": {},
   "source": [
    "# 3 Data"
   ]
  },
  {
   "cell_type": "markdown",
   "id": "8513f3bf",
   "metadata": {},
   "source": [
    "#### The data present in this project was provided by Flatiron School. These data were analyzed based on parameters  including: sqft, number of bedrooms, number of bathrooms, etc.  \n",
    "   Data provide by Flatiron School corresponding zip codes taken from King County Open Data Source\n",
    "   \n",
    "    * Our variables include:\n",
    "    * View;  \n",
    "    * Waterfront;\n",
    "    * Number of Bedrooms;\n",
    "    * Number of Bathrooms,\n",
    "    * SQFT living;\n",
    "    * Grade (condition);\n",
    "    * Year Built;\n",
    "    * Renovated,  etc.\n",
    "    "
   ]
  },
  {
   "cell_type": "markdown",
   "id": "ba08aaef",
   "metadata": {},
   "source": [
    "\n",
    "# 4 Technical Results "
   ]
  },
  {
   "cell_type": "markdown",
   "id": "1f2bcf83",
   "metadata": {},
   "source": [
    "With technical results we can see that the Model fuctions well. It give us a prediction of 82% of changes in the house prices based on the houses characteristcs and an Error of $........"
   ]
  },
  {
   "cell_type": "markdown",
   "id": "05e8208c",
   "metadata": {},
   "source": [
    "#### R^2 final model \n",
    " \t0.826\n",
    "\n",
    "#### Train RMSE\n",
    "    $ 117,768.73\n",
    "\n",
    "#### Test RMSE\n",
    "    $ 117,182.99"
   ]
  },
  {
   "cell_type": "code",
   "execution_count": null,
   "id": "be31ad0a",
   "metadata": {},
   "outputs": [],
   "source": []
  }
 ],
 "metadata": {
  "kernelspec": {
   "display_name": "learn_env",
   "language": "python",
   "name": "learn_env"
  },
  "language_info": {
   "codemirror_mode": {
    "name": "ipython",
    "version": 3
   },
   "file_extension": ".py",
   "mimetype": "text/x-python",
   "name": "python",
   "nbconvert_exporter": "python",
   "pygments_lexer": "ipython3",
   "version": "3.8.8"
  }
 },
 "nbformat": 4,
 "nbformat_minor": 5
}
